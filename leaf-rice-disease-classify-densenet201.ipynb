{
 "cells": [
  {
   "cell_type": "code",
   "execution_count": 1,
   "id": "seasonal-zambia",
   "metadata": {
    "execution": {
     "iopub.execute_input": "2021-05-04T10:23:46.127177Z",
     "iopub.status.busy": "2021-05-04T10:23:46.126118Z",
     "iopub.status.idle": "2021-05-04T10:23:52.616651Z",
     "shell.execute_reply": "2021-05-04T10:23:52.615907Z"
    },
    "papermill": {
     "duration": 6.508656,
     "end_time": "2021-05-04T10:23:52.616804",
     "exception": false,
     "start_time": "2021-05-04T10:23:46.108148",
     "status": "completed"
    },
    "tags": []
   },
   "outputs": [],
   "source": [
    "import numpy as np\n",
    "import pandas as pd\n",
    "import os\n",
    "import matplotlib.pyplot as plt\n",
    "import tensorflow as tf\n",
    "\n",
    "from tensorflow.keras.utils import to_categorical\n",
    "from tensorflow.keras.preprocessing.image import load_img, img_to_array\n",
    "from tensorflow.python.keras.preprocessing.image import ImageDataGenerator\n",
    "\n",
    "from sklearn.metrics import classification_report, log_loss, accuracy_score\n",
    "from sklearn.model_selection import train_test_split"
   ]
  },
  {
   "cell_type": "code",
   "execution_count": 2,
   "id": "historic-payment",
   "metadata": {
    "execution": {
     "iopub.execute_input": "2021-05-04T10:23:52.649218Z",
     "iopub.status.busy": "2021-05-04T10:23:52.648619Z",
     "iopub.status.idle": "2021-05-04T10:23:52.651553Z",
     "shell.execute_reply": "2021-05-04T10:23:52.651067Z"
    },
    "papermill": {
     "duration": 0.021125,
     "end_time": "2021-05-04T10:23:52.651690",
     "exception": false,
     "start_time": "2021-05-04T10:23:52.630565",
     "status": "completed"
    },
    "tags": []
   },
   "outputs": [],
   "source": [
    "directory = '../input/leaf-rice-disease-indonesia'"
   ]
  },
  {
   "cell_type": "code",
   "execution_count": 3,
   "id": "dynamic-economy",
   "metadata": {
    "execution": {
     "iopub.execute_input": "2021-05-04T10:23:52.684118Z",
     "iopub.status.busy": "2021-05-04T10:23:52.683572Z",
     "iopub.status.idle": "2021-05-04T10:23:52.696186Z",
     "shell.execute_reply": "2021-05-04T10:23:52.695035Z"
    },
    "papermill": {
     "duration": 0.031386,
     "end_time": "2021-05-04T10:23:52.696480",
     "exception": false,
     "start_time": "2021-05-04T10:23:52.665094",
     "status": "completed"
    },
    "tags": []
   },
   "outputs": [
    {
     "name": "stdout",
     "output_type": "stream",
     "text": [
      "['tungro', 'blast', 'blight']\n",
      "3\n"
     ]
    }
   ],
   "source": [
    "Name=[]\n",
    "for file in os.listdir(directory):\n",
    "    Name+=[file]\n",
    "print(Name)\n",
    "print(len(Name))"
   ]
  },
  {
   "cell_type": "code",
   "execution_count": 4,
   "id": "freelance-tobago",
   "metadata": {
    "execution": {
     "iopub.execute_input": "2021-05-04T10:23:52.731636Z",
     "iopub.status.busy": "2021-05-04T10:23:52.730840Z",
     "iopub.status.idle": "2021-05-04T10:23:52.733985Z",
     "shell.execute_reply": "2021-05-04T10:23:52.733443Z"
    },
    "papermill": {
     "duration": 0.02203,
     "end_time": "2021-05-04T10:23:52.734108",
     "exception": false,
     "start_time": "2021-05-04T10:23:52.712078",
     "status": "completed"
    },
    "tags": []
   },
   "outputs": [],
   "source": [
    "N=[]\n",
    "for i in range(len(Name)):\n",
    "    N+=[i]\n",
    "    \n",
    "normal_mapping=dict(zip(Name,N)) \n",
    "reverse_mapping=dict(zip(N,Name)) \n",
    "\n",
    "def mapper(value):\n",
    "    return reverse_mapping[value]"
   ]
  },
  {
   "cell_type": "code",
   "execution_count": 5,
   "id": "european-syntax",
   "metadata": {
    "_cell_guid": "79c7e3d0-c299-4dcb-8224-4455121ee9b0",
    "_uuid": "d629ff2d2480ee46fbb7e2d37f6b5fab8052498a",
    "execution": {
     "iopub.execute_input": "2021-05-04T10:23:52.768816Z",
     "iopub.status.busy": "2021-05-04T10:23:52.768148Z",
     "iopub.status.idle": "2021-05-04T10:24:03.025176Z",
     "shell.execute_reply": "2021-05-04T10:24:03.025632Z"
    },
    "papermill": {
     "duration": 10.277585,
     "end_time": "2021-05-04T10:24:03.025835",
     "exception": false,
     "start_time": "2021-05-04T10:23:52.748250",
     "status": "completed"
    },
    "tags": []
   },
   "outputs": [],
   "source": [
    "dataset=[]\n",
    "testset=[]\n",
    "count=0\n",
    "for name in Name:\n",
    "    path=os.path.join(directory,name)\n",
    "    t=0\n",
    "    for im in os.listdir(path):\n",
    "        if im[-4:]=='.jpg':\n",
    "            image=load_img(os.path.join(path,im), grayscale=False, color_mode='rgb', target_size=(100,100))\n",
    "            image=img_to_array(image)\n",
    "            image=image/255.0\n",
    "            if t<60:\n",
    "                dataset.append([image,count])\n",
    "            else:   \n",
    "                testset.append([image,count])\n",
    "            t+=1\n",
    "    count=count+1"
   ]
  },
  {
   "cell_type": "code",
   "execution_count": 6,
   "id": "damaged-services",
   "metadata": {
    "execution": {
     "iopub.execute_input": "2021-05-04T10:24:03.060285Z",
     "iopub.status.busy": "2021-05-04T10:24:03.059538Z",
     "iopub.status.idle": "2021-05-04T10:24:03.062598Z",
     "shell.execute_reply": "2021-05-04T10:24:03.062022Z"
    },
    "papermill": {
     "duration": 0.022526,
     "end_time": "2021-05-04T10:24:03.062734",
     "exception": false,
     "start_time": "2021-05-04T10:24:03.040208",
     "status": "completed"
    },
    "tags": []
   },
   "outputs": [],
   "source": [
    "data,labels0=zip(*dataset)\n",
    "test,tlabels0=zip(*testset)"
   ]
  },
  {
   "cell_type": "code",
   "execution_count": 7,
   "id": "lyric-arabic",
   "metadata": {
    "execution": {
     "iopub.execute_input": "2021-05-04T10:24:03.098313Z",
     "iopub.status.busy": "2021-05-04T10:24:03.097607Z",
     "iopub.status.idle": "2021-05-04T10:24:03.105460Z",
     "shell.execute_reply": "2021-05-04T10:24:03.106005Z"
    },
    "papermill": {
     "duration": 0.02877,
     "end_time": "2021-05-04T10:24:03.106187",
     "exception": false,
     "start_time": "2021-05-04T10:24:03.077417",
     "status": "completed"
    },
    "tags": []
   },
   "outputs": [],
   "source": [
    "labels1=to_categorical(labels0)\n",
    "data=np.array(data)\n",
    "labels=np.array(labels1)"
   ]
  },
  {
   "cell_type": "code",
   "execution_count": 8,
   "id": "molecular-receptor",
   "metadata": {
    "execution": {
     "iopub.execute_input": "2021-05-04T10:24:03.138506Z",
     "iopub.status.busy": "2021-05-04T10:24:03.137908Z",
     "iopub.status.idle": "2021-05-04T10:24:03.146744Z",
     "shell.execute_reply": "2021-05-04T10:24:03.146214Z"
    },
    "papermill": {
     "duration": 0.02565,
     "end_time": "2021-05-04T10:24:03.146877",
     "exception": false,
     "start_time": "2021-05-04T10:24:03.121227",
     "status": "completed"
    },
    "tags": []
   },
   "outputs": [],
   "source": [
    "tlabels1=to_categorical(tlabels0)\n",
    "test=np.array(test)\n",
    "tlabels=np.array(tlabels1)"
   ]
  },
  {
   "cell_type": "code",
   "execution_count": 9,
   "id": "afraid-pasta",
   "metadata": {
    "execution": {
     "iopub.execute_input": "2021-05-04T10:24:03.180474Z",
     "iopub.status.busy": "2021-05-04T10:24:03.179785Z",
     "iopub.status.idle": "2021-05-04T10:24:03.183940Z",
     "shell.execute_reply": "2021-05-04T10:24:03.183379Z"
    },
    "papermill": {
     "duration": 0.0228,
     "end_time": "2021-05-04T10:24:03.184069",
     "exception": false,
     "start_time": "2021-05-04T10:24:03.161269",
     "status": "completed"
    },
    "tags": []
   },
   "outputs": [
    {
     "name": "stdout",
     "output_type": "stream",
     "text": [
      "180\n",
      "60\n"
     ]
    }
   ],
   "source": [
    "print(len(labels))\n",
    "print(len(tlabels))"
   ]
  },
  {
   "cell_type": "code",
   "execution_count": 10,
   "id": "previous-expert",
   "metadata": {
    "execution": {
     "iopub.execute_input": "2021-05-04T10:24:03.218679Z",
     "iopub.status.busy": "2021-05-04T10:24:03.218035Z",
     "iopub.status.idle": "2021-05-04T10:24:03.232757Z",
     "shell.execute_reply": "2021-05-04T10:24:03.232211Z"
    },
    "papermill": {
     "duration": 0.034086,
     "end_time": "2021-05-04T10:24:03.232889",
     "exception": false,
     "start_time": "2021-05-04T10:24:03.198803",
     "status": "completed"
    },
    "tags": []
   },
   "outputs": [],
   "source": [
    "trainx,testx,trainy,testy=train_test_split(data,labels,test_size=0.2,random_state=44)"
   ]
  },
  {
   "cell_type": "code",
   "execution_count": 11,
   "id": "constant-customer",
   "metadata": {
    "execution": {
     "iopub.execute_input": "2021-05-04T10:24:03.265395Z",
     "iopub.status.busy": "2021-05-04T10:24:03.264790Z",
     "iopub.status.idle": "2021-05-04T10:24:03.270525Z",
     "shell.execute_reply": "2021-05-04T10:24:03.270949Z"
    },
    "papermill": {
     "duration": 0.023379,
     "end_time": "2021-05-04T10:24:03.271112",
     "exception": false,
     "start_time": "2021-05-04T10:24:03.247733",
     "status": "completed"
    },
    "tags": []
   },
   "outputs": [
    {
     "name": "stdout",
     "output_type": "stream",
     "text": [
      "(144, 100, 100, 3)\n",
      "(36, 100, 100, 3)\n",
      "(144, 3)\n",
      "(36, 3)\n"
     ]
    }
   ],
   "source": [
    "print(trainx.shape)\n",
    "print(testx.shape)\n",
    "print(trainy.shape)\n",
    "print(testy.shape)"
   ]
  },
  {
   "cell_type": "code",
   "execution_count": 12,
   "id": "african-beatles",
   "metadata": {
    "execution": {
     "iopub.execute_input": "2021-05-04T10:24:03.306623Z",
     "iopub.status.busy": "2021-05-04T10:24:03.305964Z",
     "iopub.status.idle": "2021-05-04T10:24:03.309177Z",
     "shell.execute_reply": "2021-05-04T10:24:03.308733Z"
    },
    "papermill": {
     "duration": 0.022772,
     "end_time": "2021-05-04T10:24:03.309314",
     "exception": false,
     "start_time": "2021-05-04T10:24:03.286542",
     "status": "completed"
    },
    "tags": []
   },
   "outputs": [],
   "source": [
    "datagen = ImageDataGenerator(horizontal_flip=True,vertical_flip=True,rotation_range=20,zoom_range=0.2,\n",
    "                        width_shift_range=0.2,height_shift_range=0.2,shear_range=0.1,fill_mode=\"nearest\")"
   ]
  },
  {
   "cell_type": "code",
   "execution_count": 13,
   "id": "pretty-hours",
   "metadata": {
    "execution": {
     "iopub.execute_input": "2021-05-04T10:24:03.347540Z",
     "iopub.status.busy": "2021-05-04T10:24:03.346895Z",
     "iopub.status.idle": "2021-05-04T10:24:09.180581Z",
     "shell.execute_reply": "2021-05-04T10:24:09.181089Z"
    },
    "papermill": {
     "duration": 5.85682,
     "end_time": "2021-05-04T10:24:09.181280",
     "exception": false,
     "start_time": "2021-05-04T10:24:03.324460",
     "status": "completed"
    },
    "tags": []
   },
   "outputs": [
    {
     "name": "stdout",
     "output_type": "stream",
     "text": [
      "Downloading data from https://storage.googleapis.com/tensorflow/keras-applications/densenet/densenet201_weights_tf_dim_ordering_tf_kernels_notop.h5\n",
      "74842112/74836368 [==============================] - 1s 0us/step\n"
     ]
    }
   ],
   "source": [
    "pretrained_model3 = tf.keras.applications.DenseNet201(input_shape=(100,100,3),include_top=False,weights='imagenet',pooling='avg')\n",
    "pretrained_model3.trainable = False"
   ]
  },
  {
   "cell_type": "code",
   "execution_count": 14,
   "id": "structural-democracy",
   "metadata": {
    "execution": {
     "iopub.execute_input": "2021-05-04T10:24:09.228644Z",
     "iopub.status.busy": "2021-05-04T10:24:09.226158Z",
     "iopub.status.idle": "2021-05-04T10:24:09.283565Z",
     "shell.execute_reply": "2021-05-04T10:24:09.282900Z"
    },
    "papermill": {
     "duration": 0.083166,
     "end_time": "2021-05-04T10:24:09.283712",
     "exception": false,
     "start_time": "2021-05-04T10:24:09.200546",
     "status": "completed"
    },
    "tags": []
   },
   "outputs": [],
   "source": [
    "inputs3 = pretrained_model3.input\n",
    "x3 = tf.keras.layers.Dense(128, activation='relu')(pretrained_model3.output)\n",
    "outputs3 = tf.keras.layers.Dense(3, activation='softmax')(x3)\n",
    "model = tf.keras.Model(inputs=inputs3, outputs=outputs3)"
   ]
  },
  {
   "cell_type": "code",
   "execution_count": 15,
   "id": "understanding-nudist",
   "metadata": {
    "execution": {
     "iopub.execute_input": "2021-05-04T10:24:09.339609Z",
     "iopub.status.busy": "2021-05-04T10:24:09.338664Z",
     "iopub.status.idle": "2021-05-04T10:24:09.349217Z",
     "shell.execute_reply": "2021-05-04T10:24:09.348519Z"
    },
    "papermill": {
     "duration": 0.046874,
     "end_time": "2021-05-04T10:24:09.349382",
     "exception": false,
     "start_time": "2021-05-04T10:24:09.302508",
     "status": "completed"
    },
    "tags": []
   },
   "outputs": [],
   "source": [
    "model.compile(optimizer='adam',loss='categorical_crossentropy',metrics=['accuracy'])"
   ]
  },
  {
   "cell_type": "code",
   "execution_count": 16,
   "id": "blind-toner",
   "metadata": {
    "execution": {
     "iopub.execute_input": "2021-05-04T10:24:09.396316Z",
     "iopub.status.busy": "2021-05-04T10:24:09.395738Z",
     "iopub.status.idle": "2021-05-04T10:26:26.031314Z",
     "shell.execute_reply": "2021-05-04T10:26:26.030739Z"
    },
    "papermill": {
     "duration": 136.663192,
     "end_time": "2021-05-04T10:26:26.031534",
     "exception": false,
     "start_time": "2021-05-04T10:24:09.368342",
     "status": "completed"
    },
    "tags": []
   },
   "outputs": [
    {
     "name": "stdout",
     "output_type": "stream",
     "text": [
      "Epoch 1/30\n",
      "5/5 [==============================] - 18s 2s/step - loss: 2.1445 - accuracy: 0.3235 - val_loss: 0.6358 - val_accuracy: 0.7222\n",
      "Epoch 2/30\n",
      "5/5 [==============================] - 4s 853ms/step - loss: 0.8895 - accuracy: 0.6351 - val_loss: 0.7006 - val_accuracy: 0.6667\n",
      "Epoch 3/30\n",
      "5/5 [==============================] - 4s 795ms/step - loss: 0.5583 - accuracy: 0.7216 - val_loss: 0.4642 - val_accuracy: 0.8333\n",
      "Epoch 4/30\n",
      "5/5 [==============================] - 4s 888ms/step - loss: 0.4699 - accuracy: 0.8060 - val_loss: 0.4499 - val_accuracy: 0.8889\n",
      "Epoch 5/30\n",
      "5/5 [==============================] - 4s 818ms/step - loss: 0.2977 - accuracy: 0.9014 - val_loss: 0.4538 - val_accuracy: 0.9167\n",
      "Epoch 6/30\n",
      "5/5 [==============================] - 4s 812ms/step - loss: 0.3180 - accuracy: 0.8718 - val_loss: 0.4393 - val_accuracy: 0.8611\n",
      "Epoch 7/30\n",
      "5/5 [==============================] - 4s 810ms/step - loss: 0.2525 - accuracy: 0.9206 - val_loss: 0.3608 - val_accuracy: 0.9167\n",
      "Epoch 8/30\n",
      "5/5 [==============================] - 4s 827ms/step - loss: 0.2339 - accuracy: 0.9347 - val_loss: 0.3651 - val_accuracy: 0.9167\n",
      "Epoch 9/30\n",
      "5/5 [==============================] - 4s 808ms/step - loss: 0.2300 - accuracy: 0.9006 - val_loss: 0.3853 - val_accuracy: 0.9167\n",
      "Epoch 10/30\n",
      "5/5 [==============================] - 4s 847ms/step - loss: 0.2252 - accuracy: 0.9489 - val_loss: 0.3164 - val_accuracy: 0.9167\n",
      "Epoch 11/30\n",
      "5/5 [==============================] - 4s 826ms/step - loss: 0.1959 - accuracy: 0.9343 - val_loss: 0.3584 - val_accuracy: 0.8889\n",
      "Epoch 12/30\n",
      "5/5 [==============================] - 4s 873ms/step - loss: 0.2730 - accuracy: 0.8884 - val_loss: 0.3620 - val_accuracy: 0.8889\n",
      "Epoch 13/30\n",
      "5/5 [==============================] - 4s 806ms/step - loss: 0.1128 - accuracy: 0.9460 - val_loss: 0.3462 - val_accuracy: 0.8889\n",
      "Epoch 14/30\n",
      "5/5 [==============================] - 4s 899ms/step - loss: 0.1266 - accuracy: 0.9620 - val_loss: 0.3176 - val_accuracy: 0.8889\n",
      "Epoch 15/30\n",
      "5/5 [==============================] - 4s 799ms/step - loss: 0.1084 - accuracy: 0.9840 - val_loss: 0.2815 - val_accuracy: 0.8889\n",
      "Epoch 16/30\n",
      "5/5 [==============================] - 4s 903ms/step - loss: 0.1556 - accuracy: 0.9475 - val_loss: 0.1931 - val_accuracy: 0.9444\n",
      "Epoch 17/30\n",
      "5/5 [==============================] - 4s 808ms/step - loss: 0.1124 - accuracy: 0.9821 - val_loss: 0.1826 - val_accuracy: 0.9444\n",
      "Epoch 18/30\n",
      "5/5 [==============================] - 4s 934ms/step - loss: 0.0987 - accuracy: 0.9678 - val_loss: 0.1961 - val_accuracy: 0.9444\n",
      "Epoch 19/30\n",
      "5/5 [==============================] - 4s 810ms/step - loss: 0.1575 - accuracy: 0.9524 - val_loss: 0.2139 - val_accuracy: 0.9167\n",
      "Epoch 20/30\n",
      "5/5 [==============================] - 4s 813ms/step - loss: 0.1383 - accuracy: 0.9529 - val_loss: 0.1725 - val_accuracy: 0.9444\n",
      "Epoch 21/30\n",
      "5/5 [==============================] - 4s 813ms/step - loss: 0.1009 - accuracy: 0.9500 - val_loss: 0.1895 - val_accuracy: 0.9444\n",
      "Epoch 22/30\n",
      "5/5 [==============================] - 4s 795ms/step - loss: 0.1011 - accuracy: 0.9762 - val_loss: 0.2238 - val_accuracy: 0.9444\n",
      "Epoch 23/30\n",
      "5/5 [==============================] - 4s 896ms/step - loss: 0.1296 - accuracy: 0.9492 - val_loss: 0.2258 - val_accuracy: 0.9167\n",
      "Epoch 24/30\n",
      "5/5 [==============================] - 4s 831ms/step - loss: 0.0752 - accuracy: 0.9769 - val_loss: 0.2220 - val_accuracy: 0.9444\n",
      "Epoch 25/30\n",
      "5/5 [==============================] - 4s 905ms/step - loss: 0.0975 - accuracy: 0.9686 - val_loss: 0.2761 - val_accuracy: 0.9167\n",
      "Epoch 26/30\n",
      "5/5 [==============================] - 4s 869ms/step - loss: 0.0920 - accuracy: 0.9788 - val_loss: 0.2461 - val_accuracy: 0.9167\n",
      "Epoch 27/30\n",
      "5/5 [==============================] - 4s 827ms/step - loss: 0.0794 - accuracy: 0.9939 - val_loss: 0.2121 - val_accuracy: 0.9444\n",
      "Epoch 28/30\n",
      "5/5 [==============================] - 4s 829ms/step - loss: 0.1022 - accuracy: 0.9788 - val_loss: 0.2087 - val_accuracy: 0.9167\n",
      "Epoch 29/30\n",
      "5/5 [==============================] - 4s 830ms/step - loss: 0.0453 - accuracy: 0.9924 - val_loss: 0.2280 - val_accuracy: 0.9444\n",
      "Epoch 30/30\n",
      "5/5 [==============================] - 4s 867ms/step - loss: 0.1040 - accuracy: 0.9609 - val_loss: 0.1828 - val_accuracy: 0.9444\n"
     ]
    }
   ],
   "source": [
    "his=model.fit(datagen.flow(trainx,trainy,batch_size=32),validation_data=(testx,testy),epochs=30)"
   ]
  },
  {
   "cell_type": "code",
   "execution_count": 17,
   "id": "cubic-craft",
   "metadata": {
    "execution": {
     "iopub.execute_input": "2021-05-04T10:26:26.177367Z",
     "iopub.status.busy": "2021-05-04T10:26:26.176742Z",
     "iopub.status.idle": "2021-05-04T10:26:30.273200Z",
     "shell.execute_reply": "2021-05-04T10:26:30.274031Z"
    },
    "papermill": {
     "duration": 4.172792,
     "end_time": "2021-05-04T10:26:30.274285",
     "exception": false,
     "start_time": "2021-05-04T10:26:26.101493",
     "status": "completed"
    },
    "tags": []
   },
   "outputs": [
    {
     "name": "stdout",
     "output_type": "stream",
     "text": [
      "              precision    recall  f1-score   support\n",
      "\n",
      "           0       0.93      0.93      0.93        15\n",
      "           1       0.92      0.92      0.92        13\n",
      "           2       1.00      1.00      1.00         8\n",
      "\n",
      "    accuracy                           0.94        36\n",
      "   macro avg       0.95      0.95      0.95        36\n",
      "weighted avg       0.94      0.94      0.94        36\n",
      "\n"
     ]
    }
   ],
   "source": [
    "y_pred=model.predict(testx)\n",
    "pred=np.argmax(y_pred,axis=1)\n",
    "ground = np.argmax(testy,axis=1)\n",
    "print(classification_report(ground,pred))"
   ]
  },
  {
   "cell_type": "code",
   "execution_count": 18,
   "id": "casual-arrangement",
   "metadata": {
    "execution": {
     "iopub.execute_input": "2021-05-04T10:26:30.413529Z",
     "iopub.status.busy": "2021-05-04T10:26:30.412829Z",
     "iopub.status.idle": "2021-05-04T10:26:30.602729Z",
     "shell.execute_reply": "2021-05-04T10:26:30.602026Z"
    },
    "papermill": {
     "duration": 0.259695,
     "end_time": "2021-05-04T10:26:30.602871",
     "exception": false,
     "start_time": "2021-05-04T10:26:30.343176",
     "status": "completed"
    },
    "tags": []
   },
   "outputs": [
    {
     "data": {
      "image/png": "[encoded data removed]",
      "text/plain": [
       "<Figure size 432x288 with 1 Axes>"
      ]
     },
     "metadata": {
      "needs_background": "light"
     },
     "output_type": "display_data"
    },
    {
     "data": {
      "text/plain": [
       "<Figure size 432x288 with 0 Axes>"
      ]
     },
     "metadata": {},
     "output_type": "display_data"
    }
   ],
   "source": [
    "get_acc = his.history['accuracy']\n",
    "value_acc = his.history['val_accuracy']\n",
    "get_loss = his.history['loss']\n",
    "validation_loss = his.history['val_loss']\n",
    "\n",
    "epochs = range(len(get_acc))\n",
    "plt.plot(epochs, get_acc, 'r', label='Accuracy of Training data')\n",
    "plt.plot(epochs, value_acc, 'b', label='Accuracy of Validation data')\n",
    "plt.title('Training vs validation accuracy')\n",
    "plt.legend(loc=0)\n",
    "plt.figure()\n",
    "plt.show()"
   ]
  },
  {
   "cell_type": "code",
   "execution_count": 19,
   "id": "incomplete-bedroom",
   "metadata": {
    "execution": {
     "iopub.execute_input": "2021-05-04T10:26:30.768661Z",
     "iopub.status.busy": "2021-05-04T10:26:30.760975Z",
     "iopub.status.idle": "2021-05-04T10:26:30.907013Z",
     "shell.execute_reply": "2021-05-04T10:26:30.906512Z"
    },
    "papermill": {
     "duration": 0.235237,
     "end_time": "2021-05-04T10:26:30.907163",
     "exception": false,
     "start_time": "2021-05-04T10:26:30.671926",
     "status": "completed"
    },
    "tags": []
   },
   "outputs": [
    {
     "data": {
      "image/png": "[encoded data removed]",
      "text/plain": [
       "<Figure size 432x288 with 1 Axes>"
      ]
     },
     "metadata": {
      "needs_background": "light"
     },
     "output_type": "display_data"
    },
    {
     "data": {
      "text/plain": [
       "<Figure size 432x288 with 0 Axes>"
      ]
     },
     "metadata": {},
     "output_type": "display_data"
    }
   ],
   "source": [
    "epochs = range(len(get_loss))\n",
    "plt.plot(epochs, get_loss, 'r', label='Loss of Training data')\n",
    "plt.plot(epochs, validation_loss, 'b', label='Loss of Validation data')\n",
    "plt.title('Training vs validation loss')\n",
    "plt.legend(loc=0)\n",
    "plt.figure()\n",
    "plt.show()"
   ]
  },
  {
   "cell_type": "code",
   "execution_count": 20,
   "id": "private-security",
   "metadata": {
    "execution": {
     "iopub.execute_input": "2021-05-04T10:26:31.051664Z",
     "iopub.status.busy": "2021-05-04T10:26:31.051039Z",
     "iopub.status.idle": "2021-05-04T10:26:31.113779Z",
     "shell.execute_reply": "2021-05-04T10:26:31.113154Z"
    },
    "papermill": {
     "duration": 0.137323,
     "end_time": "2021-05-04T10:26:31.113920",
     "exception": false,
     "start_time": "2021-05-04T10:26:30.976597",
     "status": "completed"
    },
    "tags": []
   },
   "outputs": [
    {
     "data": {
      "image/png": "[encoded data removed]",
      "text/plain": [
       "<PIL.Image.Image image mode=RGB size=100x100 at 0x7F867A1505D0>"
      ]
     },
     "execution_count": 20,
     "metadata": {},
     "output_type": "execute_result"
    }
   ],
   "source": [
    "load_img(\"../input/leaf-rice-disease-indonesia/tungro/IMG_1028.jpg\",target_size=(100,100))"
   ]
  },
  {
   "cell_type": "code",
   "execution_count": 21,
   "id": "valued-liberty",
   "metadata": {
    "execution": {
     "iopub.execute_input": "2021-05-04T10:26:31.261710Z",
     "iopub.status.busy": "2021-05-04T10:26:31.261034Z",
     "iopub.status.idle": "2021-05-04T10:26:31.305513Z",
     "shell.execute_reply": "2021-05-04T10:26:31.304570Z"
    },
    "papermill": {
     "duration": 0.119477,
     "end_time": "2021-05-04T10:26:31.305662",
     "exception": false,
     "start_time": "2021-05-04T10:26:31.186185",
     "status": "completed"
    },
    "tags": []
   },
   "outputs": [],
   "source": [
    "image=load_img(\"../input/leaf-rice-disease-indonesia/tungro/IMG_1028.jpg\",target_size=(100,100))\n",
    "\n",
    "image=img_to_array(image) \n",
    "image=image/255.0\n",
    "prediction_image=np.array(image)\n",
    "prediction_image= np.expand_dims(image, axis=0)"
   ]
  },
  {
   "cell_type": "code",
   "execution_count": 22,
   "id": "opposite-hierarchy",
   "metadata": {
    "execution": {
     "iopub.execute_input": "2021-05-04T10:26:31.452178Z",
     "iopub.status.busy": "2021-05-04T10:26:31.451607Z",
     "iopub.status.idle": "2021-05-04T10:26:31.552054Z",
     "shell.execute_reply": "2021-05-04T10:26:31.552765Z"
    },
    "papermill": {
     "duration": 0.17687,
     "end_time": "2021-05-04T10:26:31.553014",
     "exception": false,
     "start_time": "2021-05-04T10:26:31.376144",
     "status": "completed"
    },
    "tags": []
   },
   "outputs": [
    {
     "name": "stdout",
     "output_type": "stream",
     "text": [
      "Prediction is tungro.\n"
     ]
    }
   ],
   "source": [
    "prediction=model.predict(prediction_image)\n",
    "value=np.argmax(prediction)\n",
    "move_name=mapper(value)\n",
    "#print(prediction)\n",
    "#print(value)\n",
    "print(\"Prediction is {}.\".format(move_name))"
   ]
  },
  {
   "cell_type": "code",
   "execution_count": 23,
   "id": "recent-monroe",
   "metadata": {
    "execution": {
     "iopub.execute_input": "2021-05-04T10:26:31.706155Z",
     "iopub.status.busy": "2021-05-04T10:26:31.705175Z",
     "iopub.status.idle": "2021-05-04T10:26:33.061537Z",
     "shell.execute_reply": "2021-05-04T10:26:33.060508Z"
    },
    "papermill": {
     "duration": 1.436766,
     "end_time": "2021-05-04T10:26:33.061768",
     "exception": false,
     "start_time": "2021-05-04T10:26:31.625002",
     "status": "completed"
    },
    "tags": []
   },
   "outputs": [
    {
     "name": "stdout",
     "output_type": "stream",
     "text": [
      "(60, 100, 100, 3)\n",
      "(60, 3)\n"
     ]
    }
   ],
   "source": [
    "print(test.shape)\n",
    "prediction2=model.predict(test)\n",
    "print(prediction2.shape)\n",
    "\n",
    "PRED=[]\n",
    "for item in prediction2:\n",
    "    value2=np.argmax(item)      \n",
    "    PRED+=[value2]"
   ]
  },
  {
   "cell_type": "code",
   "execution_count": 24,
   "id": "nearby-anatomy",
   "metadata": {
    "execution": {
     "iopub.execute_input": "2021-05-04T10:26:33.211636Z",
     "iopub.status.busy": "2021-05-04T10:26:33.211056Z",
     "iopub.status.idle": "2021-05-04T10:26:33.213274Z",
     "shell.execute_reply": "2021-05-04T10:26:33.213729Z"
    },
    "papermill": {
     "duration": 0.079362,
     "end_time": "2021-05-04T10:26:33.213892",
     "exception": false,
     "start_time": "2021-05-04T10:26:33.134530",
     "status": "completed"
    },
    "tags": []
   },
   "outputs": [],
   "source": [
    "ANS=tlabels0"
   ]
  },
  {
   "cell_type": "code",
   "execution_count": 25,
   "id": "still-alloy",
   "metadata": {
    "execution": {
     "iopub.execute_input": "2021-05-04T10:26:33.362730Z",
     "iopub.status.busy": "2021-05-04T10:26:33.362038Z",
     "iopub.status.idle": "2021-05-04T10:26:33.370187Z",
     "shell.execute_reply": "2021-05-04T10:26:33.369190Z"
    },
    "papermill": {
     "duration": 0.083933,
     "end_time": "2021-05-04T10:26:33.370498",
     "exception": false,
     "start_time": "2021-05-04T10:26:33.286565",
     "status": "completed"
    },
    "tags": []
   },
   "outputs": [
    {
     "name": "stdout",
     "output_type": "stream",
     "text": [
      "0.9\n"
     ]
    }
   ],
   "source": [
    "accuracy=accuracy_score(ANS,PRED)\n",
    "print(accuracy)"
   ]
  },
  {
   "cell_type": "code",
   "execution_count": null,
   "id": "square-freedom",
   "metadata": {
    "papermill": {
     "duration": 0.070907,
     "end_time": "2021-05-04T10:26:33.514885",
     "exception": false,
     "start_time": "2021-05-04T10:26:33.443978",
     "status": "completed"
    },
    "tags": []
   },
   "outputs": [],
   "source": []
  }
 ],
 "metadata": {
  "kernelspec": {
   "display_name": "Python 3 (ipykernel)",
   "language": "python",
   "name": "python3"
  },
  "language_info": {
   "codemirror_mode": {
    "name": "ipython",
    "version": 3
   },
   "file_extension": ".py",
   "mimetype": "text/x-python",
   "name": "python",
   "nbconvert_exporter": "python",
   "pygments_lexer": "ipython3",
   "version": "3.8.10"
  },
  "papermill": {
   "default_parameters": {},
   "duration": 176.977553,
   "end_time": "2021-05-04T10:26:35.697012",
   "environment_variables": {},
   "exception": null,
   "input_path": "__notebook__.ipynb",
   "output_path": "__notebook__.ipynb",
   "parameters": {},
   "start_time": "2021-05-04T10:23:38.719459",
   "version": "2.3.3"
  }
 },
 "nbformat": 4,
 "nbformat_minor": 5
}
